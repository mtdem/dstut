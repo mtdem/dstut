{
 "cells": [
  {
   "cell_type": "markdown",
   "metadata": {},
   "source": [
    "# Illustrating The Central Limit Theorem\n",
    "See blogpost https://lorentzen.ch/index.php/2021/01/07/illustrating-the-central-limit-theorem/."
   ]
  },
  {
   "cell_type": "code",
   "execution_count": 1,
   "metadata": {},
   "outputs": [],
   "source": [
    "import numpy as np\n",
    "import matplotlib.pyplot as plt\n",
    "%matplotlib inline"
   ]
  },
  {
   "cell_type": "code",
   "execution_count": 2,
   "metadata": {},
   "outputs": [],
   "source": [
    "# Fix seed, set constants\n",
    "np.random.seed(100)\n",
    "sample_sizes = [1, 10, 30, 1000]\n",
    "nsims = 10_000"
   ]
  },
  {
   "cell_type": "code",
   "execution_count": 2,
   "metadata": {},
   "outputs": [],
   "source": [
    "# Helper function: Mean of one sample\n",
    "def one_mean(n, p=0.2):\n",
    "    return np.random.binomial(1, p, n).mean()"
   ]
  },
  {
   "cell_type": "code",
   "execution_count": 3,
   "metadata": {},
   "outputs": [
    {
     "ename": "NameError",
     "evalue": "name 'sample_sizes' is not defined",
     "output_type": "error",
     "traceback": [
      "\u001b[0;31m---------------------------------------------------------------------------\u001b[0m",
      "\u001b[0;31mNameError\u001b[0m                                 Traceback (most recent call last)",
      "\u001b[1;32m/mnt/pan/courses/dsci351-451/rxf131/Git/22f-dsci351-451-prof/2-class/2208-351-351m-451-w16b-p2-Illustrating-Central-Limit-Theorem-in-RandPython.ipynb Cell 5\u001b[0m in \u001b[0;36m<cell line: 4>\u001b[0;34m()\u001b[0m\n\u001b[1;32m      <a href='vscode-notebook-cell://ondemand.case.edu/mnt/pan/courses/dsci351-451/rxf131/Git/22f-dsci351-451-prof/2-class/2208-351-351m-451-w16b-p2-Illustrating-Central-Limit-Theorem-in-RandPython.ipynb#W4sdnNjb2RlLXJlbW90ZQ%3D%3D?line=0'>1</a>\u001b[0m \u001b[39m# Simulate and plot\u001b[39;00m\n\u001b[1;32m      <a href='vscode-notebook-cell://ondemand.case.edu/mnt/pan/courses/dsci351-451/rxf131/Git/22f-dsci351-451-prof/2-class/2208-351-351m-451-w16b-p2-Illustrating-Central-Limit-Theorem-in-RandPython.ipynb#W4sdnNjb2RlLXJlbW90ZQ%3D%3D?line=1'>2</a>\u001b[0m fig, axes \u001b[39m=\u001b[39m plt\u001b[39m.\u001b[39msubplots(\u001b[39m2\u001b[39m, \u001b[39m2\u001b[39m, figsize\u001b[39m=\u001b[39m(\u001b[39m8\u001b[39m, \u001b[39m8\u001b[39m))\n\u001b[0;32m----> <a href='vscode-notebook-cell://ondemand.case.edu/mnt/pan/courses/dsci351-451/rxf131/Git/22f-dsci351-451-prof/2-class/2208-351-351m-451-w16b-p2-Illustrating-Central-Limit-Theorem-in-RandPython.ipynb#W4sdnNjb2RlLXJlbW90ZQ%3D%3D?line=3'>4</a>\u001b[0m \u001b[39mfor\u001b[39;00m i, n \u001b[39min\u001b[39;00m \u001b[39menumerate\u001b[39m(sample_sizes):\n\u001b[1;32m      <a href='vscode-notebook-cell://ondemand.case.edu/mnt/pan/courses/dsci351-451/rxf131/Git/22f-dsci351-451-prof/2-class/2208-351-351m-451-w16b-p2-Illustrating-Central-Limit-Theorem-in-RandPython.ipynb#W4sdnNjb2RlLXJlbW90ZQ%3D%3D?line=4'>5</a>\u001b[0m     means \u001b[39m=\u001b[39m [one_mean(n) \u001b[39mfor\u001b[39;00m ell \u001b[39min\u001b[39;00m \u001b[39mrange\u001b[39m(nsims)]\n\u001b[1;32m      <a href='vscode-notebook-cell://ondemand.case.edu/mnt/pan/courses/dsci351-451/rxf131/Git/22f-dsci351-451-prof/2-class/2208-351-351m-451-w16b-p2-Illustrating-Central-Limit-Theorem-in-RandPython.ipynb#W4sdnNjb2RlLXJlbW90ZQ%3D%3D?line=5'>6</a>\u001b[0m     ax \u001b[39m=\u001b[39m axes[i \u001b[39m/\u001b[39m\u001b[39m/\u001b[39m \u001b[39m2\u001b[39m, i \u001b[39m%\u001b[39m \u001b[39m2\u001b[39m]\n",
      "\u001b[0;31mNameError\u001b[0m: name 'sample_sizes' is not defined"
     ]
    },
    {
     "data": {
      "image/png": "[encoded data removed]",
      "text/plain": [
       "<Figure size 576x576 with 4 Axes>"
      ]
     },
     "metadata": {
      "needs_background": "light"
     },
     "output_type": "display_data"
    }
   ],
   "source": [
    "# Simulate and plot\n",
    "fig, axes = plt.subplots(2, 2, figsize=(8, 8))\n",
    "\n",
    "for i, n in enumerate(sample_sizes):\n",
    "    means = [one_mean(n) for ell in range(nsims)]\n",
    "    ax = axes[i // 2, i % 2]\n",
    "    ax.hist(means, 50)\n",
    "    ax.title.set_text(f'$n = {n}$')\n",
    "    ax.set_xlabel('mean')\n",
    "    # ax.set_xlim(0, 1)  # uncomment for LLN\n",
    "fig.tight_layout()"
   ]
  }
 ],
 "metadata": {
  "kernelspec": {
   "display_name": "Python 3",
   "language": "python",
   "name": "python3"
  },
  "language_info": {
   "codemirror_mode": {
    "name": "ipython",
    "version": 3
   },
   "file_extension": ".py",
   "mimetype": "text/x-python",
   "name": "python",
   "nbconvert_exporter": "python",
   "pygments_lexer": "ipython3",
   "version": "3.8.10"
  },
  "vscode": {
   "interpreter": {
    "hash": "31f2aee4e71d21fbe5cf8b01ff0e069b9275f58929596ceb00d14d90e3e16cd6"
   }
  }
 },
 "nbformat": 4,
 "nbformat_minor": 4
}
